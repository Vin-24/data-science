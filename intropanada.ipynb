{
 "cells": [
  {
   "cell_type": "markdown",
   "id": "ed484909-0902-4bdd-9001-7f4e37404a5e",
   "metadata": {},
   "source": [
    " Pandas"
   ]
  },
  {
   "cell_type": "code",
   "execution_count": 5,
   "id": "3b73015f-392d-4db5-a030-f3abe4ddd927",
   "metadata": {
    "tags": []
   },
   "outputs": [],
   "source": [
    "import pandas as pd"
   ]
  },
  {
   "cell_type": "code",
   "execution_count": 6,
   "id": "6f5939c1-de21-4b18-a39b-4f052adce94a",
   "metadata": {
    "tags": []
   },
   "outputs": [
    {
     "name": "stdout",
     "output_type": "stream",
     "text": [
      "0    1\n",
      "1    7\n",
      "2    2\n",
      "dtype: int64\n"
     ]
    }
   ],
   "source": [
    "#Series -- (Series())\n",
    "a=[1, 7, 2]\n",
    "v=pd.Series(a)\n",
    "print(v)"
   ]
  },
  {
   "cell_type": "code",
   "execution_count": 7,
   "id": "0ce41661-943d-4415-a294-b97ab97d3aa7",
   "metadata": {
    "tags": []
   },
   "outputs": [
    {
     "name": "stdout",
     "output_type": "stream",
     "text": [
      "1\n"
     ]
    }
   ],
   "source": [
    "#Labels\n",
    "print(v[0])"
   ]
  },
  {
   "cell_type": "code",
   "execution_count": 9,
   "id": "335b2ef7-0c4e-460a-8210-f1a7993c928f",
   "metadata": {
    "tags": []
   },
   "outputs": [
    {
     "name": "stdout",
     "output_type": "stream",
     "text": [
      "x    1\n",
      "y    7\n",
      "z    2\n",
      "dtype: int64\n"
     ]
    }
   ],
   "source": [
    "#create labels\n",
    "m=pd.Series(a, index = [\"x\", \"y\", \"z\"])\n",
    "print(m)"
   ]
  },
  {
   "cell_type": "code",
   "execution_count": 11,
   "id": "40e319bb-4df7-49a3-8bab-3f76a82154b0",
   "metadata": {
    "tags": []
   },
   "outputs": [
    {
     "name": "stdout",
     "output_type": "stream",
     "text": [
      "day1    420\n",
      "day2    380\n",
      "day3    390\n",
      "dtype: int64\n"
     ]
    }
   ],
   "source": [
    "#key/value objects as series\n",
    "calories={\"day1\": 420, \"day2\":380, \"day3\":390}\n",
    "y= pd.Series(calories)\n",
    "print(y)\n",
    "#here the keys of dictionary become the labels"
   ]
  },
  {
   "cell_type": "code",
   "execution_count": 12,
   "id": "37ef1d4a-a4df-4a6a-9f0e-51048a55fd18",
   "metadata": {
    "tags": []
   },
   "outputs": [
    {
     "name": "stdout",
     "output_type": "stream",
     "text": [
      "day1    420\n",
      "day2    380\n",
      "dtype: int64\n"
     ]
    }
   ],
   "source": [
    "x=pd.Series(calories, index= [\"day1\",\"day2\"])\n",
    "print(x)"
   ]
  },
  {
   "cell_type": "code",
   "execution_count": 14,
   "id": "f5b2bf30-6ae9-49e6-a0df-e9689adaf689",
   "metadata": {
    "tags": []
   },
   "outputs": [
    {
     "name": "stdout",
     "output_type": "stream",
     "text": [
      "   calories  duration\n",
      "0       420        50\n",
      "1       380        40\n",
      "2       390        45\n"
     ]
    }
   ],
   "source": [
    "#Dataframes\n",
    "data={\n",
    "     \"calories\":[420, 380, 390],\n",
    "     \"duration\":[50, 40, 45]\n",
    "     }\n",
    "df=pd.DataFrame(data)\n",
    "print(df)"
   ]
  },
  {
   "cell_type": "code",
   "execution_count": 23,
   "id": "68190cb8-8a62-462e-b81a-882064049822",
   "metadata": {
    "tags": []
   },
   "outputs": [
    {
     "name": "stdout",
     "output_type": "stream",
     "text": [
      "   calories  duration\n",
      "0       420        50\n",
      "1       380        40\n",
      "2       390        45\n"
     ]
    }
   ],
   "source": [
    "#locating Row\n",
    "#print(df.loc[0])\n",
    "print(df.loc[[0, 1, 2]])\n",
    "\n",
    "#when using[], teh result is a pandas dataframe\n"
   ]
  },
  {
   "cell_type": "code",
   "execution_count": 24,
   "id": "80f51581-5116-49eb-923a-9c686d9ff17a",
   "metadata": {
    "tags": []
   },
   "outputs": [
    {
     "name": "stdout",
     "output_type": "stream",
     "text": [
      "      calories  duration\n",
      "day1       420        50\n",
      "day2       380        40\n",
      "day3       390        45\n"
     ]
    }
   ],
   "source": [
    "da = {\n",
    "  \"calories\": [420, 380, 390],\n",
    "  \"duration\": [50, 40, 45]\n",
    "}\n",
    "\n",
    "d = pd.DataFrame(data, index = [\"day1\", \"day2\", \"day3\"])\n",
    "\n",
    "print(d) \n",
    "\n",
    "#we can add a list of names to give each row aname"
   ]
  },
  {
   "cell_type": "code",
   "execution_count": 27,
   "id": "713bfe45-bc81-47ce-a864-d4a044255613",
   "metadata": {
    "tags": []
   },
   "outputs": [
    {
     "name": "stdout",
     "output_type": "stream",
     "text": [
      "      calories  duration\n",
      "day1       420        50\n",
      "day2       380        40\n"
     ]
    }
   ],
   "source": [
    "#locate the named index\n",
    "#print(d.loc[\"day1\"])\n",
    "print(d.loc[[\"day1\", \"day2\"]])"
   ]
  },
  {
   "cell_type": "code",
   "execution_count": null,
   "id": "2ba0cf20-a0fe-4be5-8a65-beec7e274586",
   "metadata": {},
   "outputs": [],
   "source": []
  }
 ],
 "metadata": {
  "kernelspec": {
   "display_name": "Python 3 (ipykernel)",
   "language": "python",
   "name": "python3"
  },
  "language_info": {
   "codemirror_mode": {
    "name": "ipython",
    "version": 3
   },
   "file_extension": ".py",
   "mimetype": "text/x-python",
   "name": "python",
   "nbconvert_exporter": "python",
   "pygments_lexer": "ipython3",
   "version": "3.10.4"
  }
 },
 "nbformat": 4,
 "nbformat_minor": 5
}
