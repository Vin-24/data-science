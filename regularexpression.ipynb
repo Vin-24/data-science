{
 "cells": [
  {
   "cell_type": "markdown",
   "id": "a1eb025e-5d69-4f3d-b519-41faf3af628d",
   "metadata": {
    "tags": []
   },
   "source": [
    "# Regular Expression"
   ]
  },
  {
   "cell_type": "code",
   "execution_count": 2,
   "id": "839d1ca3-775e-4c2a-a88b-4d6aa1610a8c",
   "metadata": {
    "tags": []
   },
   "outputs": [],
   "source": [
    "import re"
   ]
  },
  {
   "cell_type": "code",
   "execution_count": 2,
   "id": "03b68908-f017-4d8a-9da9-4340a4c4db38",
   "metadata": {},
   "outputs": [
    {
     "data": {
      "text/plain": [
       "'My name is Vinay and I am not lazy'"
      ]
     },
     "execution_count": 2,
     "metadata": {},
     "output_type": "execute_result"
    }
   ],
   "source": [
    "sen='My name is Vinay and I am not lazy'\n",
    "sen"
   ]
  },
  {
   "cell_type": "code",
   "execution_count": 17,
   "id": "471f1141-118c-46b0-910a-dcc7e552e7c5",
   "metadata": {
    "tags": []
   },
   "outputs": [
    {
     "data": {
      "text/plain": [
       "['y2409@gmail.com']"
      ]
     },
     "execution_count": 17,
     "metadata": {},
     "output_type": "execute_result"
    }
   ],
   "source": [
    "s= 'My name is Vinay and my email id is vinay2409@gmail.com'\n",
    "regex='[A-Za-z0-9][A-Za-z0-9][A-Za-z0-9][A-Za-z0-9][A-Za-z0-9]@gmail.com'\n",
    "re.findall(regex,s)"
   ]
  },
  {
   "cell_type": "code",
   "execution_count": null,
   "id": "7b9607f5-f2fd-4a0d-855c-558088ed1fce",
   "metadata": {},
   "outputs": [],
   "source": []
  },
  {
   "cell_type": "code",
   "execution_count": 33,
   "id": "bed54d60-9ce5-461d-96f9-1a5dc54a9ce0",
   "metadata": {
    "tags": []
   },
   "outputs": [
    {
     "data": {
      "text/plain": [
       "['vinay2409@gmail.com', 'vickey3456@gmail.com']"
      ]
     },
     "execution_count": 33,
     "metadata": {},
     "output_type": "execute_result"
    }
   ],
   "source": [
    "# quantifiers\n",
    "s= 'My name is Vinay and my email id is vinay2409@gmail.com and vickey3456@gmail.com'\n",
    "regex='[A-Za-z0-9]{1,}@gmail.com'\n",
    "re.findall(regex,s)"
   ]
  },
  {
   "cell_type": "code",
   "execution_count": 41,
   "id": "79420310-2c37-441b-b406-1096c36cb228",
   "metadata": {
    "tags": []
   },
   "outputs": [
    {
     "data": {
      "text/plain": [
       "['12/04/2023']"
      ]
     },
     "execution_count": 41,
     "metadata": {},
     "output_type": "execute_result"
    }
   ],
   "source": [
    "v='date is 12/04/2023'\n",
    "regex='[0-9]{2}/[0-9]{2}/[0-9]{2,4}'\n",
    "re.findall(regex,v)"
   ]
  },
  {
   "cell_type": "code",
   "execution_count": 54,
   "id": "8823c2e9-df0f-4bf4-a266-5784de5e3e5f",
   "metadata": {
    "tags": []
   },
   "outputs": [],
   "source": [
    "import pandas as pd\n",
    "d={'date':['24/09/24', '05/08/2021','05/09/24','05-09-2024','04-09-20','05-july-2024']}\n",
    "x=pd.DataFrame(d)"
   ]
  },
  {
   "cell_type": "code",
   "execution_count": 55,
   "id": "1da5eb32-1022-4b96-b1bb-e04376623c2a",
   "metadata": {
    "tags": []
   },
   "outputs": [
    {
     "data": {
      "text/plain": [
       "0        24/09/24\n",
       "1      05/08/2021\n",
       "2        05/09/24\n",
       "3      05-09-2024\n",
       "4        04-09-20\n",
       "5    05-july-2024\n",
       "Name: date, dtype: object"
      ]
     },
     "execution_count": 55,
     "metadata": {},
     "output_type": "execute_result"
    }
   ],
   "source": [
    "x['date'].astype(str)"
   ]
  },
  {
   "cell_type": "code",
   "execution_count": 74,
   "id": "e3dc8aa1-5853-49d2-aaff-1ffc9ad7b728",
   "metadata": {
    "tags": []
   },
   "outputs": [
    {
     "name": "stdout",
     "output_type": "stream",
     "text": [
      "['24/09/24']\n",
      "['05/08/2021']\n",
      "['05/09/24']\n",
      "['05-09-2024']\n",
      "['04-09-20']\n",
      "['05-july-2024']\n"
     ]
    }
   ],
   "source": [
    "for i in x['date']:\n",
    "    regex=['[0-9]{2}/[0-9]{2}/[0-9]{2,4}','[0-9]{2}-[0-9]{2}-[0-9]{2,4}','[0-9]{2}-[A-Za-z]{2,12}-[0-9]{2,4}']\n",
    "    for j in regex:\n",
    "        v=re.findall(j,i)\n",
    "        if i not in v:\n",
    "            continue\n",
    "        print(v)\n",
    "        "
   ]
  },
  {
   "cell_type": "code",
   "execution_count": 84,
   "id": "0e2116cb-170a-4008-8356-6c34a4ebd592",
   "metadata": {
    "tags": []
   },
   "outputs": [
    {
     "name": "stdout",
     "output_type": "stream",
     "text": [
      "['24/09/24']\n",
      "['05/08/2021']\n",
      "['05/09/24']\n",
      "['05-09-2024']\n",
      "['04-09-20']\n",
      "['05-july-2024']\n"
     ]
    },
    {
     "ename": "TypeError",
     "evalue": "sub() missing 1 required positional argument: 'string'",
     "output_type": "error",
     "traceback": [
      "\u001b[1;31m---------------------------------------------------------------------------\u001b[0m",
      "\u001b[1;31mTypeError\u001b[0m                                 Traceback (most recent call last)",
      "Cell \u001b[1;32mIn[84], line 9\u001b[0m\n\u001b[0;32m      7\u001b[0m \u001b[38;5;28mprint\u001b[39m(v)\n\u001b[0;32m      8\u001b[0m \u001b[38;5;28;01mif\u001b[39;00m j \u001b[38;5;241m==\u001b[39m regex[\u001b[38;5;241m2\u001b[39m]:\n\u001b[1;32m----> 9\u001b[0m     j\u001b[38;5;241m=\u001b[39m\u001b[43mre\u001b[49m\u001b[38;5;241;43m.\u001b[39;49m\u001b[43msub\u001b[49m\u001b[43m(\u001b[49m\u001b[43mregex\u001b[49m\u001b[43m[\u001b[49m\u001b[38;5;241;43m2\u001b[39;49m\u001b[43m]\u001b[49m\u001b[43m,\u001b[49m\u001b[43mregex\u001b[49m\u001b[43m[\u001b[49m\u001b[38;5;241;43m0\u001b[39;49m\u001b[43m]\u001b[49m\u001b[43m)\u001b[49m\n\u001b[0;32m     10\u001b[0m     \u001b[38;5;28mprint\u001b[39m(j)\n",
      "\u001b[1;31mTypeError\u001b[0m: sub() missing 1 required positional argument: 'string'"
     ]
    }
   ],
   "source": [
    "for i in x['date']:\n",
    "    regex=['[0-9]{2}/[0-9]{2}/[0-9]{2,4}','[0-9]{2}-[0-9]{2}-[0-9]{2,4}','[0-9]{2}-[A-Za-z]{2,12}-[0-9]{2,4}']\n",
    "    for j in regex:\n",
    "        v=re.findall(j,i)\n",
    "        if i not in v:\n",
    "            continue\n",
    "        print(v)\n",
    "        if j == regex[2]:\n",
    "            j=re.sub(regex[2],regex[0])\n",
    "            print(j)\n",
    "               \n",
    "        "
   ]
  },
  {
   "cell_type": "markdown",
   "id": "a65de591-e2b5-4a77-a480-262068893cd2",
   "metadata": {},
   "source": [
    "### we can write [0-9]{,}{blank {} with comma represent 0 to infinity}\n",
    "    - * =0 or more\n",
    "    - + = 1 or more\n",
    "    - ? = 0 or 1"
   ]
  },
  {
   "cell_type": "code",
   "execution_count": 32,
   "id": "e62ae45e-8629-4847-8ac8-c977edd1825e",
   "metadata": {
    "tags": []
   },
   "outputs": [
    {
     "data": {
      "text/plain": [
       "['Mr. vinay']"
      ]
     },
     "execution_count": 32,
     "metadata": {},
     "output_type": "execute_result"
    }
   ],
   "source": [
    "x=\"My name is Mr. vinay \"\n",
    "regex='Mr[.]?[]* [A-Z]+[a-z]*'\n",
    "v=re.findall(regex, x)\n",
    "v"
   ]
  },
  {
   "cell_type": "code",
   "execution_count": 33,
   "id": "2891f1fa-f151-4232-a5db-5dbe0808694e",
   "metadata": {},
   "outputs": [
    {
     "data": {
      "text/plain": [
       "['vinay2409@gmail.com', 'vickey3456@gmail.com']"
      ]
     },
     "execution_count": 33,
     "metadata": {},
     "output_type": "execute_result"
    }
   ],
   "source": [
    "s= 'My name is Vinay and my email id is vinay2409@gmail.com and vickey3456@gmail.com'\n",
    "regex='[A-Za-z0-9]{1,}@gmail\\.com'\n",
    "re.findall(regex,s)"
   ]
  },
  {
   "cell_type": "code",
   "execution_count": 34,
   "id": "7cc5a5fe-78f2-4104-a1a3-fec821b0de85",
   "metadata": {
    "tags": []
   },
   "outputs": [
    {
     "data": {
      "text/plain": [
       "['dear harsh']"
      ]
     },
     "execution_count": 34,
     "metadata": {},
     "output_type": "execute_result"
    }
   ],
   "source": [
    "mail='''dear harshil\n",
    "how are you?\n",
    "regards\n",
    "shivam'''\n",
    "regex='^dear harsh'\n",
    "re.findall(regex,mail)"
   ]
  },
  {
   "cell_type": "code",
   "execution_count": 10,
   "id": "3ccad50f-4853-4a43-96c9-558a1b3a763b",
   "metadata": {
    "tags": []
   },
   "outputs": [
    {
     "data": {
      "text/plain": [
       "['hivam']"
      ]
     },
     "execution_count": 10,
     "metadata": {},
     "output_type": "execute_result"
    }
   ],
   "source": [
    "regex1='hivam$'\n",
    "re.findall(regex1, mail)"
   ]
  },
  {
   "cell_type": "code",
   "execution_count": 27,
   "id": "ec116eff-9037-4821-9cd2-ce5c14c24f43",
   "metadata": {
    "tags": []
   },
   "outputs": [
    {
     "data": {
      "text/plain": [
       "['9', '9', '9', '9', '9']"
      ]
     },
     "execution_count": 27,
     "metadata": {},
     "output_type": "execute_result"
    }
   ],
   "source": [
    "paisa='''99 RS 999 dear harshil\n",
    "how are $ you?\n",
    "regards\n",
    "shivam'''\n",
    "#regex='^RS|\\$'\n",
    "regex2='^RS|[\\d]'\n",
    "re.findall(regex2,paisa)"
   ]
  },
  {
   "cell_type": "markdown",
   "id": "60dbee5d-43c2-4960-8e3e-e4c58f76b49a",
   "metadata": {
    "tags": []
   },
   "source": [
    "### regex2='^RS|[\\d]' \n",
    "here we have to group it the right syntax is \n",
    "regex2='^(RS|[\\d])'"
   ]
  },
  {
   "cell_type": "code",
   "execution_count": 29,
   "id": "532451d9-58d6-4f19-9060-c1675e773f9f",
   "metadata": {
    "tags": []
   },
   "outputs": [
    {
     "data": {
      "text/plain": [
       "['9']"
      ]
     },
     "execution_count": 29,
     "metadata": {},
     "output_type": "execute_result"
    }
   ],
   "source": [
    "paisa='''99 RS 999 dear harshil\n",
    "how are $ you?\n",
    "regards\n",
    "shivam'''\n",
    "#regex='^RS|\\$'\n",
    "regex2='^(RS|[\\d])'\n",
    "re.findall(regex2,paisa)"
   ]
  },
  {
   "cell_type": "code",
   "execution_count": null,
   "id": "ead7daf8-ee6b-4b74-af96-b3d6747ab6b9",
   "metadata": {},
   "outputs": [],
   "source": []
  }
 ],
 "metadata": {
  "kernelspec": {
   "display_name": "Python 3 (ipykernel)",
   "language": "python",
   "name": "python3"
  },
  "language_info": {
   "codemirror_mode": {
    "name": "ipython",
    "version": 3
   },
   "file_extension": ".py",
   "mimetype": "text/x-python",
   "name": "python",
   "nbconvert_exporter": "python",
   "pygments_lexer": "ipython3",
   "version": "3.10.4"
  }
 },
 "nbformat": 4,
 "nbformat_minor": 5
}
